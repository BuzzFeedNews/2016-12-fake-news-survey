{
 "cells": [
  {
   "cell_type": "markdown",
   "metadata": {},
   "source": [
    "# Fake-news survey analysis\n",
    "\n",
    "Please see [here for more details](https://github.com/BuzzFeedNews/2016-12-fake-news-survey)."
   ]
  },
  {
   "cell_type": "markdown",
   "metadata": {},
   "source": [
    "## Load online survey"
   ]
  },
  {
   "cell_type": "code",
   "execution_count": 1,
   "metadata": {
    "collapsed": false
   },
   "outputs": [],
   "source": [
    "import pandas as pd"
   ]
  },
  {
   "cell_type": "code",
   "execution_count": 2,
   "metadata": {
    "collapsed": true
   },
   "outputs": [],
   "source": [
    "survey = pd.read_csv(\"../data/raw-data.csv\")"
   ]
  },
  {
   "cell_type": "code",
   "execution_count": 3,
   "metadata": {
    "collapsed": false
   },
   "outputs": [
    {
     "data": {
      "text/plain": [
       "3015"
      ]
     },
     "execution_count": 3,
     "metadata": {},
     "output_type": "execute_result"
    }
   ],
   "source": [
    "len(survey)"
   ]
  },
  {
   "cell_type": "code",
   "execution_count": 4,
   "metadata": {
    "collapsed": false
   },
   "outputs": [
    {
     "data": {
      "text/html": [
       "<div>\n",
       "<table border=\"1\" class=\"dataframe\">\n",
       "  <thead>\n",
       "    <tr style=\"text-align: right;\">\n",
       "      <th></th>\n",
       "      <th>Respondent_Serial</th>\n",
       "      <th>ID</th>\n",
       "      <th>ReturnCode</th>\n",
       "      <th>IDType</th>\n",
       "      <th>USHOU1</th>\n",
       "      <th>MRK_SMPGRP</th>\n",
       "      <th>MRK_SMPSRC</th>\n",
       "      <th>IISPanelistID</th>\n",
       "      <th>DP_INCOME</th>\n",
       "      <th>DP_GENAGE</th>\n",
       "      <th>...</th>\n",
       "      <th>DKIDS01_3_DKIDS01_Rel</th>\n",
       "      <th>DKIDS01_4_DKIDS01_Rel</th>\n",
       "      <th>DKIDS01_5_DKIDS01_Rel</th>\n",
       "      <th>DKIDS01_6_DKIDS01_Rel</th>\n",
       "      <th>DKIDS01_7_DKIDS01_Rel</th>\n",
       "      <th>DKIDS01_8_DKIDS01_Rel</th>\n",
       "      <th>DKIDS01_9_DKIDS01_Rel</th>\n",
       "      <th>DKIDS01_10_DKIDS01_Rel</th>\n",
       "      <th>DKIDS01_11_DKIDS01_Rel</th>\n",
       "      <th>DKIDS01_12_DKIDS01_Rel</th>\n",
       "    </tr>\n",
       "  </thead>\n",
       "  <tbody>\n",
       "    <tr>\n",
       "      <th>0</th>\n",
       "      <td>6</td>\n",
       "      <td>1141122260</td>\n",
       "      <td>9</td>\n",
       "      <td>1</td>\n",
       "      <td>1</td>\n",
       "      <td>1</td>\n",
       "      <td>2</td>\n",
       "      <td>NaN</td>\n",
       "      <td>4</td>\n",
       "      <td>1</td>\n",
       "      <td>...</td>\n",
       "      <td>NaN</td>\n",
       "      <td>NaN</td>\n",
       "      <td>NaN</td>\n",
       "      <td>NaN</td>\n",
       "      <td>NaN</td>\n",
       "      <td>NaN</td>\n",
       "      <td>NaN</td>\n",
       "      <td>NaN</td>\n",
       "      <td>NaN</td>\n",
       "      <td>NaN</td>\n",
       "    </tr>\n",
       "    <tr>\n",
       "      <th>1</th>\n",
       "      <td>8</td>\n",
       "      <td>1146768496</td>\n",
       "      <td>9</td>\n",
       "      <td>1</td>\n",
       "      <td>3</td>\n",
       "      <td>1</td>\n",
       "      <td>2</td>\n",
       "      <td>NaN</td>\n",
       "      <td>3</td>\n",
       "      <td>4</td>\n",
       "      <td>...</td>\n",
       "      <td>NaN</td>\n",
       "      <td>NaN</td>\n",
       "      <td>NaN</td>\n",
       "      <td>NaN</td>\n",
       "      <td>NaN</td>\n",
       "      <td>NaN</td>\n",
       "      <td>NaN</td>\n",
       "      <td>NaN</td>\n",
       "      <td>NaN</td>\n",
       "      <td>NaN</td>\n",
       "    </tr>\n",
       "    <tr>\n",
       "      <th>2</th>\n",
       "      <td>10</td>\n",
       "      <td>1143062614</td>\n",
       "      <td>9</td>\n",
       "      <td>1</td>\n",
       "      <td>1</td>\n",
       "      <td>1</td>\n",
       "      <td>2</td>\n",
       "      <td>NaN</td>\n",
       "      <td>5</td>\n",
       "      <td>1</td>\n",
       "      <td>...</td>\n",
       "      <td>NaN</td>\n",
       "      <td>NaN</td>\n",
       "      <td>NaN</td>\n",
       "      <td>NaN</td>\n",
       "      <td>NaN</td>\n",
       "      <td>NaN</td>\n",
       "      <td>NaN</td>\n",
       "      <td>NaN</td>\n",
       "      <td>NaN</td>\n",
       "      <td>NaN</td>\n",
       "    </tr>\n",
       "    <tr>\n",
       "      <th>3</th>\n",
       "      <td>12</td>\n",
       "      <td>C1439717771</td>\n",
       "      <td>9</td>\n",
       "      <td>1</td>\n",
       "      <td>3</td>\n",
       "      <td>1</td>\n",
       "      <td>3</td>\n",
       "      <td>NaN</td>\n",
       "      <td>1</td>\n",
       "      <td>2</td>\n",
       "      <td>...</td>\n",
       "      <td>NaN</td>\n",
       "      <td>NaN</td>\n",
       "      <td>NaN</td>\n",
       "      <td>NaN</td>\n",
       "      <td>NaN</td>\n",
       "      <td>NaN</td>\n",
       "      <td>NaN</td>\n",
       "      <td>NaN</td>\n",
       "      <td>NaN</td>\n",
       "      <td>NaN</td>\n",
       "    </tr>\n",
       "    <tr>\n",
       "      <th>4</th>\n",
       "      <td>13</td>\n",
       "      <td>C1439718289</td>\n",
       "      <td>9</td>\n",
       "      <td>1</td>\n",
       "      <td>3</td>\n",
       "      <td>1</td>\n",
       "      <td>3</td>\n",
       "      <td>NaN</td>\n",
       "      <td>3</td>\n",
       "      <td>5</td>\n",
       "      <td>...</td>\n",
       "      <td>NaN</td>\n",
       "      <td>NaN</td>\n",
       "      <td>NaN</td>\n",
       "      <td>NaN</td>\n",
       "      <td>NaN</td>\n",
       "      <td>NaN</td>\n",
       "      <td>NaN</td>\n",
       "      <td>NaN</td>\n",
       "      <td>NaN</td>\n",
       "      <td>NaN</td>\n",
       "    </tr>\n",
       "  </tbody>\n",
       "</table>\n",
       "<p>5 rows × 418 columns</p>\n",
       "</div>"
      ],
      "text/plain": [
       "   Respondent_Serial           ID  ReturnCode  IDType  USHOU1  MRK_SMPGRP  \\\n",
       "0                  6   1141122260           9       1       1           1   \n",
       "1                  8   1146768496           9       1       3           1   \n",
       "2                 10   1143062614           9       1       1           1   \n",
       "3                 12  C1439717771           9       1       3           1   \n",
       "4                 13  C1439718289           9       1       3           1   \n",
       "\n",
       "   MRK_SMPSRC  IISPanelistID  DP_INCOME  DP_GENAGE           ...            \\\n",
       "0           2            NaN          4          1           ...             \n",
       "1           2            NaN          3          4           ...             \n",
       "2           2            NaN          5          1           ...             \n",
       "3           3            NaN          1          2           ...             \n",
       "4           3            NaN          3          5           ...             \n",
       "\n",
       "   DKIDS01_3_DKIDS01_Rel  DKIDS01_4_DKIDS01_Rel  DKIDS01_5_DKIDS01_Rel  \\\n",
       "0                    NaN                    NaN                    NaN   \n",
       "1                    NaN                    NaN                    NaN   \n",
       "2                    NaN                    NaN                    NaN   \n",
       "3                    NaN                    NaN                    NaN   \n",
       "4                    NaN                    NaN                    NaN   \n",
       "\n",
       "   DKIDS01_6_DKIDS01_Rel  DKIDS01_7_DKIDS01_Rel  DKIDS01_8_DKIDS01_Rel  \\\n",
       "0                    NaN                    NaN                    NaN   \n",
       "1                    NaN                    NaN                    NaN   \n",
       "2                    NaN                    NaN                    NaN   \n",
       "3                    NaN                    NaN                    NaN   \n",
       "4                    NaN                    NaN                    NaN   \n",
       "\n",
       "   DKIDS01_9_DKIDS01_Rel  DKIDS01_10_DKIDS01_Rel  DKIDS01_11_DKIDS01_Rel  \\\n",
       "0                    NaN                     NaN                     NaN   \n",
       "1                    NaN                     NaN                     NaN   \n",
       "2                    NaN                     NaN                     NaN   \n",
       "3                    NaN                     NaN                     NaN   \n",
       "4                    NaN                     NaN                     NaN   \n",
       "\n",
       "   DKIDS01_12_DKIDS01_Rel  \n",
       "0                     NaN  \n",
       "1                     NaN  \n",
       "2                     NaN  \n",
       "3                     NaN  \n",
       "4                     NaN  \n",
       "\n",
       "[5 rows x 418 columns]"
      ]
     },
     "execution_count": 4,
     "metadata": {},
     "output_type": "execute_result"
    }
   ],
   "source": [
    "survey.head()"
   ]
  },
  {
   "cell_type": "markdown",
   "metadata": {},
   "source": [
    "All the columns:"
   ]
  },
  {
   "cell_type": "code",
   "execution_count": 5,
   "metadata": {
    "collapsed": false
   },
   "outputs": [
    {
     "name": "stdout",
     "output_type": "stream",
     "text": [
      "Respondent_Serial • ID • ReturnCode • IDType • USHOU1 • MRK_SMPGRP • MRK_SMPSRC • IISPanelistID • DP_INCOME • DP_GENAGE • DP_EDUCATION_BAN • DP_HISPANIC_BAN • DP_USHHI2_der • usedu3_der • usmar2_der • EMP01_der • USRACE4_der • USRETH3_der • HADD_ZipCode_US • HCAL_REGION1_US • HCAL_REGION1_Label_abbreviation_US • HCAL_REGION1_Label_US • HCAL_Region3_US • HCAL_Region3_Label_US • HCAL_Region2_US • HCAL_Region2_Label_US • HCAL_AGGLO_CODE_US • HCAL_AGGLO_CODE_Label_US • HCAL_MktSize_US • HCAL_MktSize_Label_US • HCAL_STDMKTSIZE_US • HCAL_STDMKTSIZE_Label_US • HCAL_STDREGION_4CODES_US • HCAL_STDREGION_4CODES_Label_US • HCAL_STDREGION_US • HCAL_STDREGION_Label_US • TimeZone_US • Time_Zone_Label_US • NielsenCountySizeCode_US • QMktSize_1_1 • QMktSize_2_1 • QMktSize_3_1 • QMktSize_4_1 • QMktSize_5_1 • QMktSize_6_1 • QMktSize_7_1 • QMktSize_8_1 • QMktSize_9_1 • QMktSize_10_1 • QMktSize_11_1 • QMktSize_12_1 • QMktSize_13_1 • QMktSize_14_1 • QMktSize_15_1 • QMktSize_16_1 • QMktSize_17_1 • QMktSize_18_1 • QMktSize_19_1 • QMktSize_20_1 • QMktSize_21_1 • QMktSize_22_1 • QMktSize_23_1 • QMktSize_24_1 • QMktSize_25_1 • QMktSize_26_1 • QMktSize_27_1 • QMktSize_28_1 • QMktSize_29_1 • QMktSize_30_1 • QMktSize_31_1 • QMktSize_32_1 • QMktSize_33_1 • QMktSize_34_1 • QMktSize_35_1 • QMktSize_36_1 • QMktSize_37_1 • QMktSize_38_1 • QMktSize_39_1 • QMktSize_40_1 • QMktSize_41_1 • QMktSize_42_1 • QMktSize_43_1 • QMktSize_44_1 • QMktSize_45_1 • QMktSize_46_1 • QMktSize_47_1 • QMktSize_48_1 • QMktSize_49_1 • QMktSize_50_1 • QMktSize_51_1 • QMktSize_52_1 • QMktSize_53_1 • QMktSize_54_1 • QMktSize_55_1 • QMktSize_56_1 • QMktSize_57_1 • QMktSize_58_1 • QMktSize_59_1 • QMktSize_60_1 • QMktSize_61_1 • QMktSize_62_1 • QMktSize_63_1 • QMktSize_64_1 • QMktSize_65_1 • QMktSize_66_1 • QMktSize_67_1 • QMktSize_68_1 • QMktSize_69_1 • QMktSize_70_1 • QMktSize_71_1 • QMktSize_72_1 • QMktSize_73_1 • QMktSize_74_1 • QMktSize_75_1 • QMktSize_76_1 • QMktSize_77_1 • QMktSize_78_1 • QMktSize_79_1 • QMktSize_80_1 • QMktSize_81_1 • QMktSize_82_1 • QMktSize_83_1 • QMktSize_84_1 • QMktSize_85_1 • QMktSize_86_1 • QMktSize_87_1 • QMktSize_88_1 • QMktSize_89_1 • QMktSize_90_1 • QMktSize_91_1 • QMktSize_92_1 • QMktSize_93_1 • QMktSize_94_1 • QMktSize_95_1 • QMktSize_96_1 • QMktSize_97_1 • QMktSize_98_1 • QMktSize_99_1 • ZIP_3DIGIT • ZIP_5DIGIT • State_Recoded • USHHI2 • DMA • DP_ETHNICITY_BAN • Weightvar • resp_gender • resp_age • resp_age_long • REGION4 • US09KID • US09KAB01 • US09KAB02 • US09KAB03 • US09KAB04 • US09KAB05 • US09KAB06 • US09KAB07 • US09KAB08 • US09KAB09 • US09KAB10 • US09KAB11 • US09KAB12 • US09KAB13 • US09KAB14 • US09KAB15 • US09KAB16 • US09KAB17 • US09KAB18 • US09KAB19 • US09KAG01 • US09KAG02 • US09KAG03 • US09KAG04 • US09KAG05 • US09KAG06 • US09KAG07 • US09KAG08 • US09KAG09 • US09KAG10 • US09KAG11 • US09KAG12 • US09KAG13 • US09KAG14 • US09KAG15 • US09KAG16 • US09KAG17 • US09KAG18 • US09KAG19 • USMAR2 • STATE • US09KAB_AG_merged01 • US09KAB_AG_merged02 • US09KAB_AG_merged03 • US09KAB_AG_merged04 • US09KAB_AG_merged05 • US09KAB_AG_merged06 • US09KAB_AG_merged07 • US09KAB_AG_merged08 • US09KAB_AG_merged09 • US09KAB_AG_merged10 • US09KAB_AG_merged11 • US09KAB_AG_merged12 • US09KAB_AG_merged13 • US09KAB_AG_merged14 • US09KAB_AG_merged15 • US09KAB_AG_merged16 • US09KAB_AG_merged17 • US09KAB_AG_merged18 • US09KAB_AG_merged19 • Age_pres • GENAGE_der • MRK_STATUS_DWD • MRK_START_TIME_DWD • MRK_END_TIME_DWD • MRK_DIFF_TIME_DWD • QUOTA_DWD • QUOTA_CAN_GENDER_DWD • QUOTA_CAN_AGERANGE_DWD • QUOTA_CAN_REGION_DWD • DWD1 • DWD1_4 • DWD2 • DWD3 • DWD4 • DWD5 • QUOTAROTDWD1 • QUOTAROTDWD2 • DWD6 • DWD6_5 • QUOTA_HEADSLINES_ATOE1 • QUOTA_HEADSLINES_ATOE2 • QUOTA_HEADSLINES_ATOE3 • QUOTA_HEADSLINES_ATOE4 • QUOTA_HEADSLINES_ATOE5 • QUOTA_HEADSLINES_FTOK1 • QUOTA_HEADSLINES_FTOK2 • QUOTA_HEADSLINES_FTOK3 • QUOTA_HEADSLINES_FTOK4 • QUOTA_HEADSLINES_FTOK5 • QUOTA_HEADSLINES_FTOK6 • MRK_ORD_LOOPDWD7_DWD8_A_ORD_LOOPDWD7_DWD8 • MRK_ORD_LOOPDWD7_DWD8_B_ORD_LOOPDWD7_DWD8 • MRK_ORD_LOOPDWD7_DWD8_C_ORD_LOOPDWD7_DWD8 • MRK_ORD_LOOPDWD7_DWD8_D_ORD_LOOPDWD7_DWD8 • MRK_ORD_LOOPDWD7_DWD8_E_ORD_LOOPDWD7_DWD8 • MRK_ORD_LOOPDWD7_DWD8_F_ORD_LOOPDWD7_DWD8 • MRK_ORD_LOOPDWD7_DWD8_G_ORD_LOOPDWD7_DWD8 • MRK_ORD_LOOPDWD7_DWD8_H_ORD_LOOPDWD7_DWD8 • MRK_ORD_LOOPDWD7_DWD8_I_ORD_LOOPDWD7_DWD8 • MRK_ORD_LOOPDWD7_DWD8_J_ORD_LOOPDWD7_DWD8 • MRK_ORD_LOOPDWD7_DWD8_K_ORD_LOOPDWD7_DWD8 • ProgCtrLOOPDWD7_DWD8 • LOOPDWD7_DWD8_A_DWD7 • LOOPDWD7_DWD8_B_DWD7 • LOOPDWD7_DWD8_C_DWD7 • LOOPDWD7_DWD8_D_DWD7 • LOOPDWD7_DWD8_E_DWD7 • LOOPDWD7_DWD8_F_DWD7 • LOOPDWD7_DWD8_G_DWD7 • LOOPDWD7_DWD8_H_DWD7 • LOOPDWD7_DWD8_I_DWD7 • LOOPDWD7_DWD8_J_DWD7 • LOOPDWD7_DWD8_K_DWD7 • LOOPDWD7_DWD8_A_DWD8 • LOOPDWD7_DWD8_B_DWD8 • LOOPDWD7_DWD8_C_DWD8 • LOOPDWD7_DWD8_D_DWD8 • LOOPDWD7_DWD8_E_DWD8 • LOOPDWD7_DWD8_F_DWD8 • LOOPDWD7_DWD8_G_DWD8 • LOOPDWD7_DWD8_H_DWD8 • LOOPDWD7_DWD8_I_DWD8 • LOOPDWD7_DWD8_J_DWD8 • LOOPDWD7_DWD8_K_DWD8 • GRID_DWD9_1_DWD9 • GRID_DWD9_2_DWD9 • GRID_DWD9_3_DWD9 • GRID_DWD9_4_DWD9 • GRID_DWD9_5_DWD9 • GRID_DWD9_6_DWD9 • DWD10 • GRID_DWD11_1_DWD11 • GRID_DWD11_2_DWD11 • GRID_DWD11_3_DWD11 • GRID_DWD11_4_DWD11 • GRID_DWD11_5_DWD11 • GRID_DWD11_6_DWD11 • GRID_DWD11_7_DWD11 • GRID_DWD11_8_DWD11 • GRID_DWD11_9_DWD11 • GRID_DWD11_10_DWD11 • GRID_DWD11_11_DWD11 • GRID_DWD11_12_DWD11 • GRID_DWD11_13_DWD11 • GRID_DWD11_14_DWD11 • GRID_DWD11_15_DWD11 • MRK_ORDER_DWD11_1_MRK_ORDER_DWD11 • MRK_ORDER_DWD11_2_MRK_ORDER_DWD11 • MRK_ORDER_DWD11_3_MRK_ORDER_DWD11 • MRK_ORDER_DWD11_4_MRK_ORDER_DWD11 • MRK_ORDER_DWD11_5_MRK_ORDER_DWD11 • MRK_ORDER_DWD11_6_MRK_ORDER_DWD11 • MRK_ORDER_DWD11_7_MRK_ORDER_DWD11 • MRK_ORDER_DWD11_8_MRK_ORDER_DWD11 • MRK_ORDER_DWD11_9_MRK_ORDER_DWD11 • MRK_ORDER_DWD11_10_MRK_ORDER_DWD11 • MRK_ORDER_DWD11_11_MRK_ORDER_DWD11 • MRK_ORDER_DWD11_12_MRK_ORDER_DWD11 • MRK_ORDER_DWD11_13_MRK_ORDER_DWD11 • MRK_ORDER_DWD11_14_MRK_ORDER_DWD11 • MRK_ORDER_DWD11_15_MRK_ORDER_DWD11 • MARK_START_TIME_DWD • MARK_END_TIME_DWD • MARK_DIFF_TIME_DWD • Section_Version_DWD • LOOPDWD7_DWD8CNT • LOOPDWD7_DWD8CNT1 • Wavemarker • RACE_wgt • CurrentMonth • CurrentYear • KIDS01 • USRACE41 • USRACE42 • USRACE43 • USRACE44 • USRACE45 • USRACE46 • USRACE47 • COUNTRY10 • INDHH1001 • INDHH1002 • INDHH1003 • INDHH1004 • INDHH1005 • INDHH1006 • INDHH1007 • INDHH1008 • INDHH1009 • INDHH1010 • INDHH1011 • INDHH1012 • INDHH1013 • INDHH1014 • INDHH1015 • INDHH1016 • INDHH1017 • INDHH1018 • INDHH1019 • INDHH1020 • INDHH1021 • INDHH1022 • INDHH1023 • INDHH1024 • INDHH1025 • INDHH1026 • INDHH1027 • INDHH1028 • INDHH1029 • INDHH1030 • INDHH1031 • INDHH1032 • INDHH1033 • INDHH1034 • INDHH1035 • INDHH1036 • USEDU3 • USRETH3 • PGS01 • EMP01 • DKIDS01_1_DKIDS01_Gender • DKIDS01_2_DKIDS01_Gender • DKIDS01_3_DKIDS01_Gender • DKIDS01_4_DKIDS01_Gender • DKIDS01_5_DKIDS01_Gender • DKIDS01_6_DKIDS01_Gender • DKIDS01_7_DKIDS01_Gender • DKIDS01_8_DKIDS01_Gender • DKIDS01_9_DKIDS01_Gender • DKIDS01_10_DKIDS01_Gender • DKIDS01_11_DKIDS01_Gender • DKIDS01_12_DKIDS01_Gender • DKIDS01_1_DKIDS01_YoB • DKIDS01_2_DKIDS01_YoB • DKIDS01_3_DKIDS01_YoB • DKIDS01_4_DKIDS01_YoB • DKIDS01_5_DKIDS01_YoB • DKIDS01_6_DKIDS01_YoB • DKIDS01_7_DKIDS01_YoB • DKIDS01_8_DKIDS01_YoB • DKIDS01_9_DKIDS01_YoB • DKIDS01_10_DKIDS01_YoB • DKIDS01_11_DKIDS01_YoB • DKIDS01_12_DKIDS01_YoB • DKIDS01_1_DKIDS01_MoB • DKIDS01_2_DKIDS01_MoB • DKIDS01_3_DKIDS01_MoB • DKIDS01_4_DKIDS01_MoB • DKIDS01_5_DKIDS01_MoB • DKIDS01_6_DKIDS01_MoB • DKIDS01_7_DKIDS01_MoB • DKIDS01_8_DKIDS01_MoB • DKIDS01_9_DKIDS01_MoB • DKIDS01_10_DKIDS01_MoB • DKIDS01_11_DKIDS01_MoB • DKIDS01_12_DKIDS01_MoB • DKIDS01_1_DKIDS01_Rel • DKIDS01_2_DKIDS01_Rel • DKIDS01_3_DKIDS01_Rel • DKIDS01_4_DKIDS01_Rel • DKIDS01_5_DKIDS01_Rel • DKIDS01_6_DKIDS01_Rel • DKIDS01_7_DKIDS01_Rel • DKIDS01_8_DKIDS01_Rel • DKIDS01_9_DKIDS01_Rel • DKIDS01_10_DKIDS01_Rel • DKIDS01_11_DKIDS01_Rel • DKIDS01_12_DKIDS01_Rel\n"
     ]
    }
   ],
   "source": [
    "print(\" • \".join(survey.columns))"
   ]
  },
  {
   "cell_type": "markdown",
   "metadata": {},
   "source": [
    "## Tidy-ify headline response data"
   ]
  },
  {
   "cell_type": "code",
   "execution_count": 6,
   "metadata": {
    "collapsed": false
   },
   "outputs": [],
   "source": [
    "headline_order_cols = [\n",
    "    'MRK_ORD_LOOPDWD7_DWD8_A_ORD_LOOPDWD7_DWD8',\n",
    "    'MRK_ORD_LOOPDWD7_DWD8_B_ORD_LOOPDWD7_DWD8',\n",
    "    'MRK_ORD_LOOPDWD7_DWD8_C_ORD_LOOPDWD7_DWD8',\n",
    "    'MRK_ORD_LOOPDWD7_DWD8_D_ORD_LOOPDWD7_DWD8',\n",
    "    'MRK_ORD_LOOPDWD7_DWD8_E_ORD_LOOPDWD7_DWD8',\n",
    "    'MRK_ORD_LOOPDWD7_DWD8_F_ORD_LOOPDWD7_DWD8',\n",
    "    'MRK_ORD_LOOPDWD7_DWD8_G_ORD_LOOPDWD7_DWD8',\n",
    "    'MRK_ORD_LOOPDWD7_DWD8_H_ORD_LOOPDWD7_DWD8',\n",
    "    'MRK_ORD_LOOPDWD7_DWD8_I_ORD_LOOPDWD7_DWD8',\n",
    "    'MRK_ORD_LOOPDWD7_DWD8_J_ORD_LOOPDWD7_DWD8',\n",
    "    'MRK_ORD_LOOPDWD7_DWD8_K_ORD_LOOPDWD7_DWD8',\n",
    "]\n",
    "\n",
    "headline_recall_cols = [\n",
    "    'LOOPDWD7_DWD8_A_DWD7',\n",
    "    'LOOPDWD7_DWD8_B_DWD7',\n",
    "    'LOOPDWD7_DWD8_C_DWD7',\n",
    "    'LOOPDWD7_DWD8_D_DWD7',\n",
    "    'LOOPDWD7_DWD8_E_DWD7',\n",
    "    'LOOPDWD7_DWD8_F_DWD7',\n",
    "    'LOOPDWD7_DWD8_G_DWD7',\n",
    "    'LOOPDWD7_DWD8_H_DWD7',\n",
    "    'LOOPDWD7_DWD8_I_DWD7',\n",
    "    'LOOPDWD7_DWD8_J_DWD7',\n",
    "    'LOOPDWD7_DWD8_K_DWD7',\n",
    "]\n",
    "\n",
    "headline_accuracy_cols = [\n",
    "    'LOOPDWD7_DWD8_A_DWD8',\n",
    "    'LOOPDWD7_DWD8_B_DWD8',\n",
    "    'LOOPDWD7_DWD8_C_DWD8',\n",
    "    'LOOPDWD7_DWD8_D_DWD8',\n",
    "    'LOOPDWD7_DWD8_E_DWD8',\n",
    "    'LOOPDWD7_DWD8_F_DWD8',\n",
    "    'LOOPDWD7_DWD8_G_DWD8',\n",
    "    'LOOPDWD7_DWD8_H_DWD8',\n",
    "    'LOOPDWD7_DWD8_I_DWD8',\n",
    "    'LOOPDWD7_DWD8_J_DWD8',\n",
    "    'LOOPDWD7_DWD8_K_DWD8'   \n",
    "]"
   ]
  },
  {
   "cell_type": "code",
   "execution_count": 7,
   "metadata": {
    "collapsed": false
   },
   "outputs": [
    {
     "data": {
      "text/html": [
       "<div>\n",
       "<table border=\"1\" class=\"dataframe\">\n",
       "  <thead>\n",
       "    <tr style=\"text-align: right;\">\n",
       "      <th></th>\n",
       "      <th>ID</th>\n",
       "      <th>headline</th>\n",
       "      <th>order</th>\n",
       "    </tr>\n",
       "  </thead>\n",
       "  <tbody>\n",
       "    <tr>\n",
       "      <th>0</th>\n",
       "      <td>1141122260</td>\n",
       "      <td>A</td>\n",
       "      <td>1.0</td>\n",
       "    </tr>\n",
       "    <tr>\n",
       "      <th>1</th>\n",
       "      <td>1146768496</td>\n",
       "      <td>A</td>\n",
       "      <td>3.0</td>\n",
       "    </tr>\n",
       "    <tr>\n",
       "      <th>2</th>\n",
       "      <td>1143062614</td>\n",
       "      <td>A</td>\n",
       "      <td>1.0</td>\n",
       "    </tr>\n",
       "    <tr>\n",
       "      <th>3</th>\n",
       "      <td>C1439717771</td>\n",
       "      <td>A</td>\n",
       "      <td>NaN</td>\n",
       "    </tr>\n",
       "    <tr>\n",
       "      <th>4</th>\n",
       "      <td>C1439718289</td>\n",
       "      <td>A</td>\n",
       "      <td>NaN</td>\n",
       "    </tr>\n",
       "  </tbody>\n",
       "</table>\n",
       "</div>"
      ],
      "text/plain": [
       "            ID headline  order\n",
       "0   1141122260        A    1.0\n",
       "1   1146768496        A    3.0\n",
       "2   1143062614        A    1.0\n",
       "3  C1439717771        A    NaN\n",
       "4  C1439718289        A    NaN"
      ]
     },
     "execution_count": 7,
     "metadata": {},
     "output_type": "execute_result"
    }
   ],
   "source": [
    "headlines_order = pd.melt(\n",
    "    survey[ [\"ID\"] + headline_order_cols],\n",
    "    id_vars=[\"ID\"],\n",
    "    value_name=\"order\",\n",
    "    var_name=\"headline\"\n",
    ").assign(headline=lambda x: x[\"headline\"].str.extract(r\"MRK_ORD_LOOPDWD7_DWD8_(.)_ORD_LOOPDWD7_DWD8\", expand=False))\n",
    "headlines_order.head()"
   ]
  },
  {
   "cell_type": "code",
   "execution_count": 8,
   "metadata": {
    "collapsed": false
   },
   "outputs": [
    {
     "data": {
      "text/html": [
       "<div>\n",
       "<table border=\"1\" class=\"dataframe\">\n",
       "  <thead>\n",
       "    <tr style=\"text-align: right;\">\n",
       "      <th></th>\n",
       "      <th>ID</th>\n",
       "      <th>headline</th>\n",
       "      <th>recalled</th>\n",
       "    </tr>\n",
       "  </thead>\n",
       "  <tbody>\n",
       "    <tr>\n",
       "      <th>0</th>\n",
       "      <td>1141122260</td>\n",
       "      <td>A</td>\n",
       "      <td>3.0</td>\n",
       "    </tr>\n",
       "    <tr>\n",
       "      <th>1</th>\n",
       "      <td>1146768496</td>\n",
       "      <td>A</td>\n",
       "      <td>1.0</td>\n",
       "    </tr>\n",
       "    <tr>\n",
       "      <th>2</th>\n",
       "      <td>1143062614</td>\n",
       "      <td>A</td>\n",
       "      <td>1.0</td>\n",
       "    </tr>\n",
       "    <tr>\n",
       "      <th>3</th>\n",
       "      <td>C1439717771</td>\n",
       "      <td>A</td>\n",
       "      <td>NaN</td>\n",
       "    </tr>\n",
       "    <tr>\n",
       "      <th>4</th>\n",
       "      <td>C1439718289</td>\n",
       "      <td>A</td>\n",
       "      <td>NaN</td>\n",
       "    </tr>\n",
       "  </tbody>\n",
       "</table>\n",
       "</div>"
      ],
      "text/plain": [
       "            ID headline  recalled\n",
       "0   1141122260        A       3.0\n",
       "1   1146768496        A       1.0\n",
       "2   1143062614        A       1.0\n",
       "3  C1439717771        A       NaN\n",
       "4  C1439718289        A       NaN"
      ]
     },
     "execution_count": 8,
     "metadata": {},
     "output_type": "execute_result"
    }
   ],
   "source": [
    "headlines_recalled = pd.melt(\n",
    "    survey[ [\"ID\"] + headline_recall_cols],\n",
    "    id_vars=[\"ID\"],\n",
    "    value_name=\"recalled\",\n",
    "    var_name=\"headline\"\n",
    ").assign(headline=lambda x: x[\"headline\"].str.extract(r\"LOOPDWD7_DWD8_(.)_DWD7\", expand=False))\n",
    "headlines_recalled.head()"
   ]
  },
  {
   "cell_type": "code",
   "execution_count": 9,
   "metadata": {
    "collapsed": false
   },
   "outputs": [
    {
     "data": {
      "text/html": [
       "<div>\n",
       "<table border=\"1\" class=\"dataframe\">\n",
       "  <thead>\n",
       "    <tr style=\"text-align: right;\">\n",
       "      <th></th>\n",
       "      <th>ID</th>\n",
       "      <th>headline</th>\n",
       "      <th>accuracy</th>\n",
       "    </tr>\n",
       "  </thead>\n",
       "  <tbody>\n",
       "    <tr>\n",
       "      <th>0</th>\n",
       "      <td>1141122260</td>\n",
       "      <td>A</td>\n",
       "      <td>NaN</td>\n",
       "    </tr>\n",
       "    <tr>\n",
       "      <th>1</th>\n",
       "      <td>1146768496</td>\n",
       "      <td>A</td>\n",
       "      <td>4.0</td>\n",
       "    </tr>\n",
       "    <tr>\n",
       "      <th>2</th>\n",
       "      <td>1143062614</td>\n",
       "      <td>A</td>\n",
       "      <td>2.0</td>\n",
       "    </tr>\n",
       "    <tr>\n",
       "      <th>3</th>\n",
       "      <td>C1439717771</td>\n",
       "      <td>A</td>\n",
       "      <td>NaN</td>\n",
       "    </tr>\n",
       "    <tr>\n",
       "      <th>4</th>\n",
       "      <td>C1439718289</td>\n",
       "      <td>A</td>\n",
       "      <td>NaN</td>\n",
       "    </tr>\n",
       "  </tbody>\n",
       "</table>\n",
       "</div>"
      ],
      "text/plain": [
       "            ID headline  accuracy\n",
       "0   1141122260        A       NaN\n",
       "1   1146768496        A       4.0\n",
       "2   1143062614        A       2.0\n",
       "3  C1439717771        A       NaN\n",
       "4  C1439718289        A       NaN"
      ]
     },
     "execution_count": 9,
     "metadata": {},
     "output_type": "execute_result"
    }
   ],
   "source": [
    "headlines_accuracy = pd.melt(\n",
    "    survey[ [\"ID\"] + headline_accuracy_cols],\n",
    "    id_vars=[\"ID\"],\n",
    "    value_name=\"accuracy\",\n",
    "    var_name=\"headline\"\n",
    ").assign(headline=lambda x: x[\"headline\"].str.extract(r\"LOOPDWD7_DWD8_(.)_DWD8\", expand=False))\n",
    "headlines_accuracy.head()"
   ]
  },
  {
   "cell_type": "code",
   "execution_count": 10,
   "metadata": {
    "collapsed": true
   },
   "outputs": [],
   "source": [
    "def classify_accuracy(acc):\n",
    "    if pd.isnull(acc): return pd.np.nan\n",
    "    if acc in [ \"very accurate\", \"somewhat accurate\" ]:\n",
    "        return True\n",
    "    if acc in [ \"not very accurate\", \"not at all accurate\" ]:\n",
    "        return False\n",
    "    raise ValueError()"
   ]
  },
  {
   "cell_type": "code",
   "execution_count": 11,
   "metadata": {
    "collapsed": false
   },
   "outputs": [
    {
     "data": {
      "text/html": [
       "<div>\n",
       "<table border=\"1\" class=\"dataframe\">\n",
       "  <thead>\n",
       "    <tr style=\"text-align: right;\">\n",
       "      <th></th>\n",
       "      <th>ID</th>\n",
       "      <th>headline</th>\n",
       "      <th>order</th>\n",
       "      <th>recalled</th>\n",
       "      <th>accuracy</th>\n",
       "      <th>Weightvar</th>\n",
       "      <th>accuracy_bool</th>\n",
       "      <th>recalled_bool</th>\n",
       "      <th>is_fake</th>\n",
       "    </tr>\n",
       "  </thead>\n",
       "  <tbody>\n",
       "    <tr>\n",
       "      <th>0</th>\n",
       "      <td>1141122260</td>\n",
       "      <td>A</td>\n",
       "      <td>1</td>\n",
       "      <td>unsure</td>\n",
       "      <td>NaN</td>\n",
       "      <td>0.708267</td>\n",
       "      <td>NaN</td>\n",
       "      <td>False</td>\n",
       "      <td>True</td>\n",
       "    </tr>\n",
       "    <tr>\n",
       "      <th>1</th>\n",
       "      <td>1141122260</td>\n",
       "      <td>B</td>\n",
       "      <td>6</td>\n",
       "      <td>no</td>\n",
       "      <td>NaN</td>\n",
       "      <td>0.708267</td>\n",
       "      <td>NaN</td>\n",
       "      <td>False</td>\n",
       "      <td>True</td>\n",
       "    </tr>\n",
       "    <tr>\n",
       "      <th>2</th>\n",
       "      <td>1141122260</td>\n",
       "      <td>C</td>\n",
       "      <td>3</td>\n",
       "      <td>no</td>\n",
       "      <td>NaN</td>\n",
       "      <td>0.708267</td>\n",
       "      <td>NaN</td>\n",
       "      <td>False</td>\n",
       "      <td>True</td>\n",
       "    </tr>\n",
       "    <tr>\n",
       "      <th>6</th>\n",
       "      <td>1141122260</td>\n",
       "      <td>G</td>\n",
       "      <td>4</td>\n",
       "      <td>unsure</td>\n",
       "      <td>NaN</td>\n",
       "      <td>0.708267</td>\n",
       "      <td>NaN</td>\n",
       "      <td>False</td>\n",
       "      <td>False</td>\n",
       "    </tr>\n",
       "    <tr>\n",
       "      <th>7</th>\n",
       "      <td>1141122260</td>\n",
       "      <td>H</td>\n",
       "      <td>5</td>\n",
       "      <td>unsure</td>\n",
       "      <td>NaN</td>\n",
       "      <td>0.708267</td>\n",
       "      <td>NaN</td>\n",
       "      <td>False</td>\n",
       "      <td>False</td>\n",
       "    </tr>\n",
       "    <tr>\n",
       "      <th>8</th>\n",
       "      <td>1141122260</td>\n",
       "      <td>I</td>\n",
       "      <td>2</td>\n",
       "      <td>unsure</td>\n",
       "      <td>NaN</td>\n",
       "      <td>0.708267</td>\n",
       "      <td>NaN</td>\n",
       "      <td>False</td>\n",
       "      <td>False</td>\n",
       "    </tr>\n",
       "    <tr>\n",
       "      <th>11</th>\n",
       "      <td>1146768496</td>\n",
       "      <td>A</td>\n",
       "      <td>3</td>\n",
       "      <td>yes</td>\n",
       "      <td>not at all accurate</td>\n",
       "      <td>0.585417</td>\n",
       "      <td>False</td>\n",
       "      <td>True</td>\n",
       "      <td>True</td>\n",
       "    </tr>\n",
       "    <tr>\n",
       "      <th>13</th>\n",
       "      <td>1146768496</td>\n",
       "      <td>C</td>\n",
       "      <td>4</td>\n",
       "      <td>no</td>\n",
       "      <td>NaN</td>\n",
       "      <td>0.585417</td>\n",
       "      <td>NaN</td>\n",
       "      <td>False</td>\n",
       "      <td>True</td>\n",
       "    </tr>\n",
       "    <tr>\n",
       "      <th>15</th>\n",
       "      <td>1146768496</td>\n",
       "      <td>E</td>\n",
       "      <td>1</td>\n",
       "      <td>yes</td>\n",
       "      <td>very accurate</td>\n",
       "      <td>0.585417</td>\n",
       "      <td>True</td>\n",
       "      <td>True</td>\n",
       "      <td>True</td>\n",
       "    </tr>\n",
       "    <tr>\n",
       "      <th>16</th>\n",
       "      <td>1146768496</td>\n",
       "      <td>F</td>\n",
       "      <td>6</td>\n",
       "      <td>no</td>\n",
       "      <td>NaN</td>\n",
       "      <td>0.585417</td>\n",
       "      <td>NaN</td>\n",
       "      <td>False</td>\n",
       "      <td>False</td>\n",
       "    </tr>\n",
       "  </tbody>\n",
       "</table>\n",
       "</div>"
      ],
      "text/plain": [
       "            ID headline  order recalled             accuracy  Weightvar  \\\n",
       "0   1141122260        A      1   unsure                  NaN   0.708267   \n",
       "1   1141122260        B      6       no                  NaN   0.708267   \n",
       "2   1141122260        C      3       no                  NaN   0.708267   \n",
       "6   1141122260        G      4   unsure                  NaN   0.708267   \n",
       "7   1141122260        H      5   unsure                  NaN   0.708267   \n",
       "8   1141122260        I      2   unsure                  NaN   0.708267   \n",
       "11  1146768496        A      3      yes  not at all accurate   0.585417   \n",
       "13  1146768496        C      4       no                  NaN   0.585417   \n",
       "15  1146768496        E      1      yes        very accurate   0.585417   \n",
       "16  1146768496        F      6       no                  NaN   0.585417   \n",
       "\n",
       "   accuracy_bool recalled_bool is_fake  \n",
       "0            NaN         False    True  \n",
       "1            NaN         False    True  \n",
       "2            NaN         False    True  \n",
       "6            NaN         False   False  \n",
       "7            NaN         False   False  \n",
       "8            NaN         False   False  \n",
       "11         False          True    True  \n",
       "13           NaN         False    True  \n",
       "15          True          True    True  \n",
       "16           NaN         False   False  "
      ]
     },
     "execution_count": 11,
     "metadata": {},
     "output_type": "execute_result"
    }
   ],
   "source": [
    "headline_responses = headlines_order\\\n",
    "    .merge(headlines_recalled, on=[\"ID\", \"headline\"])\\\n",
    "    .merge(headlines_accuracy, on=[\"ID\", \"headline\"])\\\n",
    "    .merge(survey[[\"ID\", \"Weightvar\"]], on=[\"ID\"])\\\n",
    "    .pipe(lambda x: x[x[\"order\"] > 0])\n",
    "headline_responses[\"order\"] = headline_responses[\"order\"].astype(int)\n",
    "headline_responses[\"recalled\"] = headline_responses[\"recalled\"].apply({\n",
    "    1.0: \"yes\",\n",
    "    2.0: \"no\",\n",
    "    3.0: \"unsure\",      \n",
    "}.get)\n",
    "headline_responses[\"accuracy\"] = headline_responses[\"accuracy\"].apply({\n",
    "    1.0: \"very accurate\",\n",
    "    2.0: \"somewhat accurate\",\n",
    "    3.0: \"not very accurate\", \n",
    "    4.0: \"not at all accurate\"\n",
    "}.get).fillna(pd.np.nan)\n",
    "headline_responses[\"accuracy_bool\"] = headline_responses[\"accuracy\"].apply(classify_accuracy)\n",
    "headline_responses[\"recalled_bool\"] = headline_responses[\"recalled\"] == \"yes\"\n",
    "headline_responses[\"is_fake\"] = headline_responses[\"headline\"].isin([ \"A\", \"B\", \"C\", \"D\", \"E\" ])\n",
    "headline_responses.head(10)"
   ]
  },
  {
   "cell_type": "code",
   "execution_count": 12,
   "metadata": {
    "collapsed": true
   },
   "outputs": [],
   "source": [
    "headline_responses.to_csv(\"../data/headline-responses.csv\", index=False)"
   ]
  },
  {
   "cell_type": "markdown",
   "metadata": {},
   "source": [
    "## Set up calculations"
   ]
  },
  {
   "cell_type": "code",
   "execution_count": 13,
   "metadata": {
    "collapsed": true
   },
   "outputs": [],
   "source": [
    "def calc_weighted_accuracy(df):\n",
    "    assert(df[\"deemed_accurate\"].isnull().sum() == 0)\n",
    "    total_weight = df[\"Weightvar\"].sum()\n",
    "    return (df[\"deemed_accurate\"] * df[\"Weightvar\"]).sum() / total_weight"
   ]
  },
  {
   "cell_type": "code",
   "execution_count": 14,
   "metadata": {
    "collapsed": true
   },
   "outputs": [],
   "source": [
    "def calc_weighted_recall(df):\n",
    "    assert(df[\"recalled\"].isnull().sum() == 0)\n",
    "    total_weight = df[\"Weightvar\"].sum()\n",
    "    return ((df[\"recalled\"] == \"yes\") * df[\"Weightvar\"]).sum() / total_weight"
   ]
  },
  {
   "cell_type": "code",
   "execution_count": 15,
   "metadata": {
    "collapsed": true
   },
   "outputs": [],
   "source": [
    "def calc_weighted_bool(df, var):\n",
    "    assert(df[var].isnull().sum() == 0)\n",
    "    total_weight = df[\"Weightvar\"].sum()\n",
    "    return (df[var] * df[\"Weightvar\"]).sum() / total_weight"
   ]
  },
  {
   "cell_type": "code",
   "execution_count": 16,
   "metadata": {
    "collapsed": true
   },
   "outputs": [],
   "source": [
    "def calc_weighted_recall(df):\n",
    "    return calc_weighted_bool(df, \"recalled_bool\")"
   ]
  },
  {
   "cell_type": "code",
   "execution_count": 17,
   "metadata": {
    "collapsed": true
   },
   "outputs": [],
   "source": [
    "def calc_weighted_accuracy(df):\n",
    "    return calc_weighted_bool(df, \"accuracy_bool\")"
   ]
  },
  {
   "cell_type": "markdown",
   "metadata": {},
   "source": [
    "# Findings"
   ]
  },
  {
   "cell_type": "markdown",
   "metadata": {},
   "source": [
    "## Headline recall rates"
   ]
  },
  {
   "cell_type": "markdown",
   "metadata": {},
   "source": [
    "- A: *Pope Francis Shocks World, Endorses Donald Trump for President, Releases Statement* (Fake)\n",
    "- B: *Donald Trump Sent His Own Plane to Transport 200 Stranded Marines* (Fake)\n",
    "- C: *FBI Agent Suspected in Hillary Email Leaks Found Dead in Apparent Murder - Suicide* (Fake)\n",
    "- D: *Donald Trump Protester Speaks Out: “I Was Paid $3,500 to Protest Trump’s Rally”* (Fake)\n",
    "- E: *FBI Director Comey Just Put a Trump Sign On His Front Lawn* (Fake)\n",
    "- F: *Melania Trump’s Girl-on-Girl Photos From Racy Shoot Revealed* (True)\n",
    "- G: *Barbara Bush: “I don’t know how women can vote” for Trump* (True)\n",
    "- H: *Donald Trump Says He’d ‘Absolutely’ Require Muslims to Register* (True)\n",
    "- I: *Trump: “I Will Protect Our LGBTQ Citizens”* (True)\n",
    "- J: *I Ran the C.I.A Now I’m Endorsing Hillary Clinton* (True)\n",
    "- K: *Donald Trump on Refusing Presidential Salary: “I’m not taking it”* (True)"
   ]
  },
  {
   "cell_type": "code",
   "execution_count": 18,
   "metadata": {
    "collapsed": false
   },
   "outputs": [
    {
     "data": {
      "text/html": [
       "<div>\n",
       "<table border=\"1\" class=\"dataframe\">\n",
       "  <thead>\n",
       "    <tr style=\"text-align: right;\">\n",
       "      <th></th>\n",
       "      <th>people</th>\n",
       "      <th>prop_recalled</th>\n",
       "    </tr>\n",
       "    <tr>\n",
       "      <th>headline</th>\n",
       "      <th></th>\n",
       "      <th></th>\n",
       "    </tr>\n",
       "  </thead>\n",
       "  <tbody>\n",
       "    <tr>\n",
       "      <th>A</th>\n",
       "      <td>1809</td>\n",
       "      <td>0.19</td>\n",
       "    </tr>\n",
       "    <tr>\n",
       "      <th>B</th>\n",
       "      <td>1809</td>\n",
       "      <td>0.14</td>\n",
       "    </tr>\n",
       "    <tr>\n",
       "      <th>C</th>\n",
       "      <td>1809</td>\n",
       "      <td>0.22</td>\n",
       "    </tr>\n",
       "    <tr>\n",
       "      <th>D</th>\n",
       "      <td>1809</td>\n",
       "      <td>0.19</td>\n",
       "    </tr>\n",
       "    <tr>\n",
       "      <th>E</th>\n",
       "      <td>1809</td>\n",
       "      <td>0.10</td>\n",
       "    </tr>\n",
       "    <tr>\n",
       "      <th>F</th>\n",
       "      <td>1509</td>\n",
       "      <td>0.23</td>\n",
       "    </tr>\n",
       "    <tr>\n",
       "      <th>G</th>\n",
       "      <td>1510</td>\n",
       "      <td>0.25</td>\n",
       "    </tr>\n",
       "    <tr>\n",
       "      <th>H</th>\n",
       "      <td>1507</td>\n",
       "      <td>0.34</td>\n",
       "    </tr>\n",
       "    <tr>\n",
       "      <th>I</th>\n",
       "      <td>1506</td>\n",
       "      <td>0.27</td>\n",
       "    </tr>\n",
       "    <tr>\n",
       "      <th>J</th>\n",
       "      <td>1506</td>\n",
       "      <td>0.11</td>\n",
       "    </tr>\n",
       "    <tr>\n",
       "      <th>K</th>\n",
       "      <td>1507</td>\n",
       "      <td>0.57</td>\n",
       "    </tr>\n",
       "  </tbody>\n",
       "</table>\n",
       "</div>"
      ],
      "text/plain": [
       "          people  prop_recalled\n",
       "headline                       \n",
       "A           1809           0.19\n",
       "B           1809           0.14\n",
       "C           1809           0.22\n",
       "D           1809           0.19\n",
       "E           1809           0.10\n",
       "F           1509           0.23\n",
       "G           1510           0.25\n",
       "H           1507           0.34\n",
       "I           1506           0.27\n",
       "J           1506           0.11\n",
       "K           1507           0.57"
      ]
     },
     "execution_count": 18,
     "metadata": {},
     "output_type": "execute_result"
    }
   ],
   "source": [
    "grp = headline_responses.groupby(\"headline\")\n",
    "pd.DataFrame({\n",
    "    \"prop_recalled\": grp.apply(calc_weighted_recall),\n",
    "    \"people\": grp.size()\n",
    "}).round(2)"
   ]
  },
  {
   "cell_type": "markdown",
   "metadata": {},
   "source": [
    "## Proportion who recalled 1+ fake/real headline"
   ]
  },
  {
   "cell_type": "code",
   "execution_count": 19,
   "metadata": {
    "collapsed": true
   },
   "outputs": [],
   "source": [
    "def recalled_one_fake(df):\n",
    "    return len(df[\n",
    "        (df[\"is_fake\"] == True) &\n",
    "        (df[\"recalled\"] == \"yes\")\n",
    "    ]) > 0\n",
    "\n",
    "def recalled_one_real(df):\n",
    "    return len(df[\n",
    "        (df[\"is_fake\"] == False) &\n",
    "        (df[\"recalled\"] == \"yes\")\n",
    "    ]) > 0"
   ]
  },
  {
   "cell_type": "code",
   "execution_count": 20,
   "metadata": {
    "collapsed": false
   },
   "outputs": [
    {
     "data": {
      "text/plain": [
       "0.32500282204596953"
      ]
     },
     "execution_count": 20,
     "metadata": {},
     "output_type": "execute_result"
    }
   ],
   "source": [
    "grp = headline_responses.groupby(\"ID\")\n",
    "pd.DataFrame({\n",
    "    \"recalled_one_fake\": grp.apply(recalled_one_fake),\n",
    "}).reset_index().merge(survey[[\"ID\", \"Weightvar\"]], on=\"ID\")\\\n",
    "    .pipe(lambda x: calc_weighted_bool(x, \"recalled_one_fake\"))"
   ]
  },
  {
   "cell_type": "code",
   "execution_count": 21,
   "metadata": {
    "collapsed": false
   },
   "outputs": [
    {
     "data": {
      "text/plain": [
       "0.56995037049068364"
      ]
     },
     "execution_count": 21,
     "metadata": {},
     "output_type": "execute_result"
    }
   ],
   "source": [
    "grp = headline_responses.groupby(\"ID\")\n",
    "pd.DataFrame({\n",
    "    \"recalled_one_real\": grp.apply(recalled_one_real),\n",
    "}).reset_index().merge(survey[[\"ID\", \"Weightvar\"]], on=\"ID\")\\\n",
    "    .pipe(lambda x: calc_weighted_bool(x, \"recalled_one_real\"))"
   ]
  },
  {
   "cell_type": "markdown",
   "metadata": {},
   "source": [
    "## Judgements by headline and headline group"
   ]
  },
  {
   "cell_type": "code",
   "execution_count": 22,
   "metadata": {
    "collapsed": true
   },
   "outputs": [],
   "source": [
    "recalled_headlines = headline_responses[\n",
    "    headline_responses[\"recalled\"] == \"yes\"\n",
    "]"
   ]
  },
  {
   "cell_type": "code",
   "execution_count": 23,
   "metadata": {
    "collapsed": false
   },
   "outputs": [
    {
     "data": {
      "text/html": [
       "<div>\n",
       "<table border=\"1\" class=\"dataframe\">\n",
       "  <thead>\n",
       "    <tr style=\"text-align: right;\">\n",
       "      <th></th>\n",
       "      <th>people</th>\n",
       "      <th>prop_said_accurate</th>\n",
       "    </tr>\n",
       "    <tr>\n",
       "      <th>headline</th>\n",
       "      <th></th>\n",
       "      <th></th>\n",
       "    </tr>\n",
       "  </thead>\n",
       "  <tbody>\n",
       "    <tr>\n",
       "      <th>A</th>\n",
       "      <td>330</td>\n",
       "      <td>0.64</td>\n",
       "    </tr>\n",
       "    <tr>\n",
       "      <th>B</th>\n",
       "      <td>263</td>\n",
       "      <td>0.84</td>\n",
       "    </tr>\n",
       "    <tr>\n",
       "      <th>C</th>\n",
       "      <td>389</td>\n",
       "      <td>0.72</td>\n",
       "    </tr>\n",
       "    <tr>\n",
       "      <th>D</th>\n",
       "      <td>348</td>\n",
       "      <td>0.79</td>\n",
       "    </tr>\n",
       "    <tr>\n",
       "      <th>E</th>\n",
       "      <td>186</td>\n",
       "      <td>0.81</td>\n",
       "    </tr>\n",
       "    <tr>\n",
       "      <th>F</th>\n",
       "      <td>335</td>\n",
       "      <td>0.83</td>\n",
       "    </tr>\n",
       "    <tr>\n",
       "      <th>G</th>\n",
       "      <td>358</td>\n",
       "      <td>0.82</td>\n",
       "    </tr>\n",
       "    <tr>\n",
       "      <th>H</th>\n",
       "      <td>507</td>\n",
       "      <td>0.80</td>\n",
       "    </tr>\n",
       "    <tr>\n",
       "      <th>I</th>\n",
       "      <td>402</td>\n",
       "      <td>0.73</td>\n",
       "    </tr>\n",
       "    <tr>\n",
       "      <th>J</th>\n",
       "      <td>157</td>\n",
       "      <td>0.90</td>\n",
       "    </tr>\n",
       "    <tr>\n",
       "      <th>K</th>\n",
       "      <td>860</td>\n",
       "      <td>0.90</td>\n",
       "    </tr>\n",
       "  </tbody>\n",
       "</table>\n",
       "</div>"
      ],
      "text/plain": [
       "          people  prop_said_accurate\n",
       "headline                            \n",
       "A            330                0.64\n",
       "B            263                0.84\n",
       "C            389                0.72\n",
       "D            348                0.79\n",
       "E            186                0.81\n",
       "F            335                0.83\n",
       "G            358                0.82\n",
       "H            507                0.80\n",
       "I            402                0.73\n",
       "J            157                0.90\n",
       "K            860                0.90"
      ]
     },
     "execution_count": 23,
     "metadata": {},
     "output_type": "execute_result"
    }
   ],
   "source": [
    "grp = recalled_headlines.groupby(\"headline\")\n",
    "pd.DataFrame({\n",
    "    \"prop_said_accurate\": grp.apply(calc_weighted_accuracy),\n",
    "    \"people\": grp.size()\n",
    "}).round(2)"
   ]
  },
  {
   "cell_type": "code",
   "execution_count": 24,
   "metadata": {
    "collapsed": false
   },
   "outputs": [
    {
     "data": {
      "text/html": [
       "<div>\n",
       "<table border=\"1\" class=\"dataframe\">\n",
       "  <thead>\n",
       "    <tr style=\"text-align: right;\">\n",
       "      <th></th>\n",
       "      <th>judgments</th>\n",
       "      <th>prop_said_accurate</th>\n",
       "    </tr>\n",
       "    <tr>\n",
       "      <th>is_fake</th>\n",
       "      <th></th>\n",
       "      <th></th>\n",
       "    </tr>\n",
       "  </thead>\n",
       "  <tbody>\n",
       "    <tr>\n",
       "      <th>False</th>\n",
       "      <td>2619</td>\n",
       "      <td>0.83</td>\n",
       "    </tr>\n",
       "    <tr>\n",
       "      <th>True</th>\n",
       "      <td>1516</td>\n",
       "      <td>0.75</td>\n",
       "    </tr>\n",
       "  </tbody>\n",
       "</table>\n",
       "</div>"
      ],
      "text/plain": [
       "         judgments  prop_said_accurate\n",
       "is_fake                               \n",
       "False         2619                0.83\n",
       "True          1516                0.75"
      ]
     },
     "execution_count": 24,
     "metadata": {},
     "output_type": "execute_result"
    }
   ],
   "source": [
    "grp = recalled_headlines.groupby(\"is_fake\")\n",
    "pd.DataFrame({\n",
    "    \"prop_said_accurate\": grp.apply(calc_weighted_accuracy),\n",
    "    \"judgments\": grp.size()\n",
    "}).round(2)"
   ]
  },
  {
   "cell_type": "markdown",
   "metadata": {},
   "source": [
    "## Fake-news judgments by party affiliation"
   ]
  },
  {
   "cell_type": "code",
   "execution_count": 25,
   "metadata": {
    "collapsed": false
   },
   "outputs": [],
   "source": [
    "survey[\"major_party_affiliation\"] = survey[\"DWD1\"].apply({\n",
    "    1: \"Democrat\",\n",
    "    2: \"Republican\"\n",
    "}.get)"
   ]
  },
  {
   "cell_type": "code",
   "execution_count": 26,
   "metadata": {
    "collapsed": false
   },
   "outputs": [
    {
     "data": {
      "text/plain": [
       "Democrat      1104\n",
       "Republican     941\n",
       "Name: major_party_affiliation, dtype: int64"
      ]
     },
     "execution_count": 26,
     "metadata": {},
     "output_type": "execute_result"
    }
   ],
   "source": [
    "survey[\"major_party_affiliation\"].value_counts()"
   ]
  },
  {
   "cell_type": "code",
   "execution_count": 27,
   "metadata": {
    "collapsed": false
   },
   "outputs": [
    {
     "data": {
      "text/html": [
       "<div>\n",
       "<table border=\"1\" class=\"dataframe\">\n",
       "  <thead>\n",
       "    <tr style=\"text-align: right;\">\n",
       "      <th></th>\n",
       "      <th>judgments</th>\n",
       "      <th>prop_said_accurate</th>\n",
       "    </tr>\n",
       "    <tr>\n",
       "      <th>major_party_affiliation</th>\n",
       "      <th></th>\n",
       "      <th></th>\n",
       "    </tr>\n",
       "  </thead>\n",
       "  <tbody>\n",
       "    <tr>\n",
       "      <th>Democrat</th>\n",
       "      <td>561</td>\n",
       "      <td>0.71</td>\n",
       "    </tr>\n",
       "    <tr>\n",
       "      <th>Independent/other</th>\n",
       "      <td>340</td>\n",
       "      <td>0.66</td>\n",
       "    </tr>\n",
       "    <tr>\n",
       "      <th>Republican</th>\n",
       "      <td>615</td>\n",
       "      <td>0.84</td>\n",
       "    </tr>\n",
       "  </tbody>\n",
       "</table>\n",
       "</div>"
      ],
      "text/plain": [
       "                         judgments  prop_said_accurate\n",
       "major_party_affiliation                               \n",
       "Democrat                       561                0.71\n",
       "Independent/other              340                0.66\n",
       "Republican                     615                0.84"
      ]
     },
     "execution_count": 27,
     "metadata": {},
     "output_type": "execute_result"
    }
   ],
   "source": [
    "grp = recalled_headlines[\n",
    "    recalled_headlines[\"is_fake\"] == True\n",
    "].merge(survey[[\"ID\", \"major_party_affiliation\" ]].fillna(\"Independent/other\"), on=\"ID\")\\\n",
    "    .groupby([  \"major_party_affiliation\",  ])\n",
    "pd.DataFrame({\n",
    "    \"prop_said_accurate\": grp.apply(calc_weighted_accuracy),\n",
    "    \"judgments\": grp.size()\n",
    "}).round(2)"
   ]
  },
  {
   "cell_type": "markdown",
   "metadata": {},
   "source": [
    "## Fake-news judgments by presidential vote"
   ]
  },
  {
   "cell_type": "code",
   "execution_count": 28,
   "metadata": {
    "collapsed": false
   },
   "outputs": [],
   "source": [
    "survey[\"voted_for\"] = survey[\"DWD6\"].apply({\n",
    "    1.0: \"Clinton\",\n",
    "    2.0: \"Trump\",\n",
    "#    3.0: \"Johnson\",\n",
    "#    4.0: \"Stein\",\n",
    "#    5.0: \"Other\"\n",
    "}.get)"
   ]
  },
  {
   "cell_type": "code",
   "execution_count": 29,
   "metadata": {
    "collapsed": false
   },
   "outputs": [
    {
     "data": {
      "text/plain": [
       "Clinton    1102\n",
       "Trump      1029\n",
       "Name: voted_for, dtype: int64"
      ]
     },
     "execution_count": 29,
     "metadata": {},
     "output_type": "execute_result"
    }
   ],
   "source": [
    "survey[\"voted_for\"].value_counts()"
   ]
  },
  {
   "cell_type": "code",
   "execution_count": 30,
   "metadata": {
    "collapsed": false
   },
   "outputs": [
    {
     "data": {
      "text/html": [
       "<div>\n",
       "<table border=\"1\" class=\"dataframe\">\n",
       "  <thead>\n",
       "    <tr style=\"text-align: right;\">\n",
       "      <th></th>\n",
       "      <th>judgments</th>\n",
       "      <th>prop_said_accurate</th>\n",
       "    </tr>\n",
       "    <tr>\n",
       "      <th>voted_for</th>\n",
       "      <th></th>\n",
       "      <th></th>\n",
       "    </tr>\n",
       "  </thead>\n",
       "  <tbody>\n",
       "    <tr>\n",
       "      <th>Clinton</th>\n",
       "      <td>434</td>\n",
       "      <td>0.58</td>\n",
       "    </tr>\n",
       "    <tr>\n",
       "      <th>Trump</th>\n",
       "      <td>634</td>\n",
       "      <td>0.86</td>\n",
       "    </tr>\n",
       "    <tr>\n",
       "      <th>none/other</th>\n",
       "      <td>448</td>\n",
       "      <td>0.77</td>\n",
       "    </tr>\n",
       "  </tbody>\n",
       "</table>\n",
       "</div>"
      ],
      "text/plain": [
       "            judgments  prop_said_accurate\n",
       "voted_for                                \n",
       "Clinton           434                0.58\n",
       "Trump             634                0.86\n",
       "none/other        448                0.77"
      ]
     },
     "execution_count": 30,
     "metadata": {},
     "output_type": "execute_result"
    }
   ],
   "source": [
    "grp = recalled_headlines[\n",
    "    recalled_headlines[\"is_fake\"] == True\n",
    "].merge(survey[[\"ID\", \"voted_for\"]].fillna(\"none/other\"), on=\"ID\")\\\n",
    "    .groupby(\"voted_for\")\n",
    "pd.DataFrame({\n",
    "    \"prop_said_accurate\": grp.apply(calc_weighted_accuracy),\n",
    "    \"judgments\": grp.size()\n",
    "}).round(2)"
   ]
  },
  {
   "cell_type": "code",
   "execution_count": 31,
   "metadata": {
    "collapsed": false
   },
   "outputs": [
    {
     "data": {
      "text/html": [
       "<div>\n",
       "<table border=\"1\" class=\"dataframe\">\n",
       "  <thead>\n",
       "    <tr>\n",
       "      <th></th>\n",
       "      <th colspan=\"2\" halign=\"left\">judgments</th>\n",
       "      <th colspan=\"2\" halign=\"left\">prop_said_accurate</th>\n",
       "    </tr>\n",
       "    <tr>\n",
       "      <th>voted_for</th>\n",
       "      <th>Clinton</th>\n",
       "      <th>Trump</th>\n",
       "      <th>Clinton</th>\n",
       "      <th>Trump</th>\n",
       "    </tr>\n",
       "    <tr>\n",
       "      <th>headline</th>\n",
       "      <th></th>\n",
       "      <th></th>\n",
       "      <th></th>\n",
       "      <th></th>\n",
       "    </tr>\n",
       "  </thead>\n",
       "  <tbody>\n",
       "    <tr>\n",
       "      <th>A</th>\n",
       "      <td>100</td>\n",
       "      <td>127</td>\n",
       "      <td>0.46</td>\n",
       "      <td>0.75</td>\n",
       "    </tr>\n",
       "    <tr>\n",
       "      <th>B</th>\n",
       "      <td>56</td>\n",
       "      <td>132</td>\n",
       "      <td>0.68</td>\n",
       "      <td>0.96</td>\n",
       "    </tr>\n",
       "    <tr>\n",
       "      <th>C</th>\n",
       "      <td>106</td>\n",
       "      <td>165</td>\n",
       "      <td>0.52</td>\n",
       "      <td>0.85</td>\n",
       "    </tr>\n",
       "    <tr>\n",
       "      <th>D</th>\n",
       "      <td>92</td>\n",
       "      <td>167</td>\n",
       "      <td>0.62</td>\n",
       "      <td>0.89</td>\n",
       "    </tr>\n",
       "    <tr>\n",
       "      <th>E</th>\n",
       "      <td>80</td>\n",
       "      <td>43</td>\n",
       "      <td>0.73</td>\n",
       "      <td>0.76</td>\n",
       "    </tr>\n",
       "    <tr>\n",
       "      <th>F</th>\n",
       "      <td>154</td>\n",
       "      <td>91</td>\n",
       "      <td>0.91</td>\n",
       "      <td>0.68</td>\n",
       "    </tr>\n",
       "    <tr>\n",
       "      <th>G</th>\n",
       "      <td>160</td>\n",
       "      <td>101</td>\n",
       "      <td>0.95</td>\n",
       "      <td>0.61</td>\n",
       "    </tr>\n",
       "    <tr>\n",
       "      <th>H</th>\n",
       "      <td>230</td>\n",
       "      <td>145</td>\n",
       "      <td>0.79</td>\n",
       "      <td>0.80</td>\n",
       "    </tr>\n",
       "    <tr>\n",
       "      <th>I</th>\n",
       "      <td>121</td>\n",
       "      <td>174</td>\n",
       "      <td>0.46</td>\n",
       "      <td>0.93</td>\n",
       "    </tr>\n",
       "    <tr>\n",
       "      <th>J</th>\n",
       "      <td>61</td>\n",
       "      <td>47</td>\n",
       "      <td>0.94</td>\n",
       "      <td>0.87</td>\n",
       "    </tr>\n",
       "    <tr>\n",
       "      <th>K</th>\n",
       "      <td>279</td>\n",
       "      <td>352</td>\n",
       "      <td>0.82</td>\n",
       "      <td>0.96</td>\n",
       "    </tr>\n",
       "  </tbody>\n",
       "</table>\n",
       "</div>"
      ],
      "text/plain": [
       "          judgments       prop_said_accurate      \n",
       "voted_for   Clinton Trump            Clinton Trump\n",
       "headline                                          \n",
       "A               100   127               0.46  0.75\n",
       "B                56   132               0.68  0.96\n",
       "C               106   165               0.52  0.85\n",
       "D                92   167               0.62  0.89\n",
       "E                80    43               0.73  0.76\n",
       "F               154    91               0.91  0.68\n",
       "G               160   101               0.95  0.61\n",
       "H               230   145               0.79  0.80\n",
       "I               121   174               0.46  0.93\n",
       "J                61    47               0.94  0.87\n",
       "K               279   352               0.82  0.96"
      ]
     },
     "execution_count": 31,
     "metadata": {},
     "output_type": "execute_result"
    }
   ],
   "source": [
    "grp = recalled_headlines.merge(survey[[\"ID\", \"voted_for\"]], on=\"ID\")\\\n",
    "    .groupby([\"voted_for\", \"headline\"])\n",
    "pd.DataFrame({\n",
    "    \"prop_said_accurate\": grp.apply(calc_weighted_accuracy),\n",
    "    \"judgments\": grp.size()\n",
    "}).round(2).unstack(level=0)"
   ]
  },
  {
   "cell_type": "markdown",
   "metadata": {},
   "source": [
    "## Fake-news judgments by Facebook as news source"
   ]
  },
  {
   "cell_type": "code",
   "execution_count": 32,
   "metadata": {
    "collapsed": false
   },
   "outputs": [],
   "source": [
    "survey[\"facebook_as_news_source\"] = survey[\"GRID_DWD11_4_DWD11\"].apply({\n",
    "    1: \"major\",\n",
    "    2: \"minor\",\n",
    "    3: \"rarely-never-unfamiliar\",\n",
    "    4: \"rarely-never-unfamiliar\",\n",
    "    5: \"rarely-never-unfamiliar\"\n",
    "}.get)"
   ]
  },
  {
   "cell_type": "code",
   "execution_count": 33,
   "metadata": {
    "collapsed": false
   },
   "outputs": [
    {
     "data": {
      "text/html": [
       "<div>\n",
       "<table border=\"1\" class=\"dataframe\">\n",
       "  <thead>\n",
       "    <tr style=\"text-align: right;\">\n",
       "      <th></th>\n",
       "      <th>judgments</th>\n",
       "      <th>prop_said_accurate</th>\n",
       "    </tr>\n",
       "    <tr>\n",
       "      <th>facebook_as_news_source</th>\n",
       "      <th></th>\n",
       "      <th></th>\n",
       "    </tr>\n",
       "  </thead>\n",
       "  <tbody>\n",
       "    <tr>\n",
       "      <th>major</th>\n",
       "      <td>553</td>\n",
       "      <td>0.83</td>\n",
       "    </tr>\n",
       "    <tr>\n",
       "      <th>minor</th>\n",
       "      <td>465</td>\n",
       "      <td>0.76</td>\n",
       "    </tr>\n",
       "    <tr>\n",
       "      <th>rarely-never-unfamiliar</th>\n",
       "      <td>498</td>\n",
       "      <td>0.64</td>\n",
       "    </tr>\n",
       "  </tbody>\n",
       "</table>\n",
       "</div>"
      ],
      "text/plain": [
       "                         judgments  prop_said_accurate\n",
       "facebook_as_news_source                               \n",
       "major                          553                0.83\n",
       "minor                          465                0.76\n",
       "rarely-never-unfamiliar        498                0.64"
      ]
     },
     "execution_count": 33,
     "metadata": {},
     "output_type": "execute_result"
    }
   ],
   "source": [
    "grp = recalled_headlines[\n",
    "    recalled_headlines[\"is_fake\"] == True\n",
    "].merge(survey[[\"ID\", \"facebook_as_news_source\"]], on=\"ID\")\\\n",
    "    .groupby(\"facebook_as_news_source\")\n",
    "pd.DataFrame({\n",
    "    \"prop_said_accurate\": grp.apply(calc_weighted_accuracy),\n",
    "    \"judgments\": grp.size()\n",
    "}).round(2)"
   ]
  },
  {
   "cell_type": "markdown",
   "metadata": {},
   "source": [
    "---\n",
    "\n",
    "---\n",
    "\n",
    "---"
   ]
  }
 ],
 "metadata": {
  "kernelspec": {
   "display_name": "Python 3",
   "language": "python",
   "name": "python3"
  },
  "language_info": {
   "codemirror_mode": {
    "name": "ipython",
    "version": 3
   },
   "file_extension": ".py",
   "mimetype": "text/x-python",
   "name": "python",
   "nbconvert_exporter": "python",
   "pygments_lexer": "ipython3",
   "version": "3.4.3"
  }
 },
 "nbformat": 4,
 "nbformat_minor": 0
}
